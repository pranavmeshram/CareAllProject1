{
 "cells": [
  {
   "cell_type": "code",
   "execution_count": 77,
   "metadata": {},
   "outputs": [],
   "source": [
    "class System:\n",
    "    \n",
    "    #used in User object functionality\n",
    "    elders_list = []\n",
    "    youngster_list = []\n",
    "    \n",
    "    young_requester_list = []\n",
    "    \n",
    "    \n",
    "    #used in System object functionality\n",
    "    taken_care_by = []\n",
    "    taking_care_of = []\n",
    "    \n",
    "    \n",
    "    @classmethod\n",
    "    def add_profile(cls, obj):\n",
    "    #if profile is of elder person it will add to elder's list\n",
    "    \n",
    "        if obj.age >= 60:     \n",
    "            val = {\"Name\":obj.name, \"Age\":obj.age, \"Status\":obj.status, \"Price\":obj.price, \"Rating\":obj.rating,\n",
    "                   \"Reviews\":obj.reviews}\n",
    "            cls.elders_list.append(val)\n",
    "        \n",
    "    #if profile is of younger person it will add to youngster's list\n",
    "    \n",
    "        elif obj.age <= 40:\n",
    "            val = {\"Name\":obj.name, \"Age\":obj.age, \"Elders In Care\":obj.elders_in_care, \"Rating\":obj.rating,\n",
    "               \"Reviews\":obj.reviews}\n",
    "            cls.youngster_list.append(val)\n",
    "            \n",
    "    #Currently, we are not excepting members between 41 to 59 \n",
    "    \n",
    "        else:\n",
    "            print(\"Your age exceeds the eligibility criteria to adopt an elderly person or to be an elderly guardian\")\n",
    "            \n",
    "            \n",
    "            \n",
    "# If a young memeber sends a request, their care request is added to a list using below class method       \n",
    "    @classmethod\n",
    "    def young_requesters(cls, obj):\n",
    "        cls.young_requester_list.append(obj)\n",
    "\n",
    "        \n",
    "        \n",
    "# Below three class methods are used to change attributes after a care request is approved.\n",
    "    @classmethod                                                #1 change the status of elder \n",
    "    def change_status(cls, obj):                       \n",
    "        for change in cls.elders_list:\n",
    "            if change[\"Name\"] == obj.name:\n",
    "                change[\"Status\"] = \"Un-Available\"\n",
    "    \n",
    "    @classmethod                                                #2 increase the elder in care of youngster \n",
    "    def change_elder_in_care_value(cls, obj):  \n",
    "        for young in cls.youngster_list:\n",
    "            if obj == young[\"Name\"]:\n",
    "                young[\"Elders In Care\"] += 1\n",
    "                \n",
    "    @classmethod                                                #3. remove its entry from young_requester_list\n",
    "    def remove_from_young_requester_list(cls, obj):\n",
    "        for item in cls.young_requester_list:\n",
    "            if item[\"Name\"] == obj:\n",
    "                cls.young_requester_list.remove(item)\n",
    "                \n",
    "                \n",
    "                \n",
    "# To add data of younger people who are taking care of elders.             \n",
    "    @classmethod\n",
    "    def add_to_taken_care_by_list(cls, y_name, e_name):\n",
    "        for young in cls.youngster_list:\n",
    "            if young[\"Name\"] == y_name:\n",
    "                toAdd = {e_name.name:{\"Name\":young[\"Name\"], \"Age\":young[\"Age\"], \"Ratings\":young[\"Rating\"],\n",
    "                              \"Reviews\":young[\"Reviews\"]}}\n",
    "                cls.taken_care_by.append(toAdd)\n",
    "                \n",
    "\n",
    "                \n",
    "# To add data of elder people who are been taken care by youngsters.        \n",
    "    @classmethod\n",
    "    def add_to_taking_care_of_list(cls, obj, y_name):\n",
    "        if len(cls.taking_care_of) == 0:\n",
    "            for elder in cls.elders_list:\n",
    "                if elder[\"Name\"] == obj.name:\n",
    "                    data_list = [[obj.name, obj.rating, obj.reviews]]\n",
    "                    toAdd = {y_name:data_list}                \n",
    "                    cls.taking_care_of.append(toAdd)\n",
    "        else:\n",
    "            data_list = [[obj.name, obj.rating, obj.reviews]]\n",
    "            for i in cls.taking_care_of:\n",
    "                if y_name in i:\n",
    "                    i[y_name].extend(data_list)\n",
    "                    break\n",
    "            else:\n",
    "                toAdd = {y_name:data_list}                \n",
    "                cls.taking_care_of.append(toAdd)\n",
    "                            \n",
    "       \n",
    "\n",
    "                        \n",
    "                \n",
    "# a. Showing who is taking care of the older couple.                \n",
    "    def display_elder_guardian_details(self, e_name):\n",
    "        \n",
    "        isValid = False                \n",
    "        for i in System.elders_list:\n",
    "            if i[\"Name\"] == e_name:\n",
    "                isValid = True\n",
    "        \n",
    "        if isValid:\n",
    "            for young in System.taken_care_by:\n",
    "                for key, value in young.items():\n",
    "                    if key == e_name:\n",
    "                        print(key,\"is been taken care by\")\n",
    "                        print(value)\n",
    "        else:\n",
    "            print(\"OOPS!, Something went wrong\")\n",
    "            print(\"Please check the elder name and elder status again\")\n",
    "            print(\"Make sure the profile exists and he/she meets the availability criteria\")\n",
    "                    \n",
    "                \n",
    "# b. Showing who all a young chap is currently taking care of.    \n",
    "    def display_elders_in_care_of_youngster(self, y_name):\n",
    "        for elder in System.taking_care_of:\n",
    "            for key, value in elder.items():\n",
    "                if key == y_name:\n",
    "                    print(key,\"is taking care of :-\")\n",
    "                    print()\n",
    "                    for item in value:\n",
    "                        print(\"\\t\",*item)\n",
    "                        \n",
    "            \n",
    "        \n",
    "            \n",
    "# ******************************************************************************************************************* #\n",
    "# ******************************************************************************************************************* #\n",
    "\n",
    "\n",
    "class Elder(System):\n",
    "    \n",
    "    def __init__(self, name, age, status, price, rating, reviews):\n",
    "        self.name = name\n",
    "        self.age = age\n",
    "        self.status = status\n",
    "        self.price = price\n",
    "        self.rating = rating\n",
    "        self.reviews = reviews\n",
    "        \n",
    "        System.add_profile(self)    # Adding elder object to a list.\n",
    "        \n",
    "        \n",
    "    def update_status(self, status_mode):\n",
    "        for elder in System.elders_list:\n",
    "            if elder[\"Name\"] == self.name:\n",
    "                elder[\"Status\"] = status_mode\n",
    "                print(\"Status changed Successfully\")\n",
    "        \n",
    "\n",
    "# To check the request sent by youngsters\n",
    "    def care_requests_queue(self):\n",
    "        for request in System.young_requester_list:\n",
    "            if request[\"Request For\"] == self.name:\n",
    "                print(request)      \n",
    "        else:\n",
    "            print(\"\\t\\t\\t\",\"*\"*10,\"End of line\",\"*\"*10)\n",
    "\n",
    "            \n",
    "# To approve the request sent by youngsters                \n",
    "    def approve_request(self, a_name, approval): \n",
    "        self.a_name = a_name\n",
    "        self.approval = approval\n",
    "        for request in System.young_requester_list:\n",
    "            if request[\"Name\"] == a_name and self.approval == \"Yes\":\n",
    "                print(\"Approved\")\n",
    "                \n",
    "        # Once a care request is approve, appropriate changes are made using the below class methods\n",
    "                System.change_status(self)\n",
    "                System.change_elder_in_care_value(a_name)\n",
    "                System.remove_from_young_requester_list(a_name)\n",
    "                \n",
    "                System.add_to_taken_care_by_list(a_name, self)\n",
    "                System.add_to_taking_care_of_list(self, a_name)\n",
    "        else:\n",
    "            print(\"\\t\\t\\t\",\"*\"*10,\"End of line\",\"*\"*10)\n",
    "\n",
    "    \n",
    "           \n",
    "# ******************************************************************************************************************* #\n",
    "# ******************************************************************************************************************* #\n",
    "    \n",
    "    \n",
    "class Youngster(System):\n",
    "    \n",
    "    def __init__(self, name, age, elders_in_care, rating, reviews):\n",
    "        self.name = name\n",
    "        self.age = age\n",
    "        self.elders_in_care = elders_in_care\n",
    "        self.rating = rating\n",
    "        self.reviews = reviews\n",
    "        \n",
    "        System.add_profile(self)  # Adding youngster object to a list.\n",
    "        \n",
    "        \n",
    "        \n",
    "# To check the availablibility of the elders who are avaiable at this moment.\n",
    "    def check_elders_availibility(self):\n",
    "        available_elders = []\n",
    "        for elder in System.elders_list:\n",
    "            if elder[\"Status\"] == \"Available\":\n",
    "                available_elders.append(elder)\n",
    "        return available_elders\n",
    "         \n",
    "        \n",
    "\n",
    "# To send care request to the available elder    in u_name the argument of elder's name is passed.\n",
    "    def send_request(self, u_name):\n",
    "        self.u_name = u_name\n",
    "    \n",
    "    # If a care request is already send then DENY further requests\n",
    "        for i in System.young_requester_list:\n",
    "            if i[\"Name\"] == self.name and i[\"Request For\"] == self.u_name: \n",
    "                return \"Request already sent\"\n",
    "        \n",
    "    # To change the elder_in_care value of self object once the previous care request is approved        \n",
    "        for young in System.youngster_list:\n",
    "            if self.name == young[\"Name\"]:\n",
    "                if self.elders_in_care != young[\"Elders In Care\"]:\n",
    "                    self.elders_in_care += 1\n",
    "\n",
    "    # To check the prerequisites of sending a care request.\n",
    "        if self.elders_in_care < 4:\n",
    "            for elder in System.elders_list:\n",
    "\n",
    "                if elder[\"Name\"] == self.u_name and elder[\"Status\"] == \"Available\":\n",
    "                    print(\"Request Sent! \\nTo:-\",end=\" \")\n",
    "                    print(elder)\n",
    "                    \n",
    "                    val = {\"Name\":self.name, \"Age\":self.age, \"Elders In Care\":self.elders_in_care, \n",
    "                          \"Request For\":self.u_name, \"Rating\":self.rating, \"Reviews\":self.reviews}\n",
    "                    \n",
    "                    System.young_requesters(val)\n",
    "                    break\n",
    "                    \n",
    "            else:\n",
    "                print(\"Elder profile does not exits OR Elder is not available at the moment\")\n",
    "        else:\n",
    "            print(\"Max Limit of elders to take care of Exceeds!\")"
   ]
  },
  {
   "cell_type": "code",
   "execution_count": 78,
   "metadata": {},
   "outputs": [],
   "source": [
    "## Object Creation:-\n",
    "\n",
    "y1=Youngster(\"Raj\", 22, 3, \"3.5*\", \"Humble in nuture\")\n",
    "y2=Youngster(\"Max\", 26, 0, \"4.5*\", \"Too Kind\")\n",
    "## Max limit reached to take care of.\n",
    "y3=Youngster(\"Roy\", 28, 4, \"4.5*\", \"Gentle character\")\n",
    "\n",
    "\n",
    "e1 = Elder(\"Mahesh\", 65, \"Available\", 5000, \"4*\", \"Good to hang\")\n",
    "e2 = Elder(\"Anand\", 75, \"Available\", 10000, \"4.2*\", \"Great to talk to\")\n",
    "e3 = Elder(\"Shanta\", 68, \"Available\", 7000, \"4.2*\", \"Motivator\")\n",
    "## Hard coded status to Un-Available so that availability criteria is not met.\n",
    "e4 = Elder(\"Kamlesh\", 75, \"Un-Available\", 7000, \"4.2*\", \"Former Health Coach\")\n",
    "\n",
    "# System User (for validating the project objectives)\n",
    "s1 = System()"
   ]
  },
  {
   "cell_type": "code",
   "execution_count": 79,
   "metadata": {},
   "outputs": [
    {
     "name": "stdout",
     "output_type": "stream",
     "text": [
      "Youngsters:-\n",
      "{'Name': 'Raj', 'Age': 22, 'Elders In Care': 3, 'Rating': '3.5*', 'Reviews': 'Humble in nuture'}\n",
      "{'Name': 'Max', 'Age': 26, 'Elders In Care': 0, 'Rating': '4.5*', 'Reviews': 'Too Kind'}\n",
      "{'Name': 'Roy', 'Age': 28, 'Elders In Care': 4, 'Rating': '4.5*', 'Reviews': 'Gentle character'}\n",
      "\n",
      "Elders:-\n",
      "{'Name': 'Mahesh', 'Age': 65, 'Status': 'Available', 'Price': 5000, 'Rating': '4*', 'Reviews': 'Good to hang'}\n",
      "{'Name': 'Anand', 'Age': 75, 'Status': 'Available', 'Price': 10000, 'Rating': '4.2*', 'Reviews': 'Great to talk to'}\n",
      "{'Name': 'Shanta', 'Age': 68, 'Status': 'Available', 'Price': 7000, 'Rating': '4.2*', 'Reviews': 'Motivator'}\n",
      "{'Name': 'Kamlesh', 'Age': 75, 'Status': 'Un-Available', 'Price': 7000, 'Rating': '4.2*', 'Reviews': 'Former Health Coach'}\n"
     ]
    }
   ],
   "source": [
    "## Validity of object creation and added to their respective lists.. # youngster_list   # elders_list\n",
    "\n",
    "print(\"Youngsters:-\")\n",
    "for i in System.youngster_list:   \n",
    "    print(i)\n",
    "print()\n",
    "print(\"Elders:-\")\n",
    "for j in System.elders_list:\n",
    "    print(j)"
   ]
  },
  {
   "cell_type": "code",
   "execution_count": null,
   "metadata": {},
   "outputs": [],
   "source": []
  },
  {
   "cell_type": "markdown",
   "metadata": {},
   "source": [
    "#### YOUNG PEOPLE's FUNCTIONALITIES :-\n"
   ]
  },
  {
   "cell_type": "code",
   "execution_count": 81,
   "metadata": {},
   "outputs": [
    {
     "name": "stdout",
     "output_type": "stream",
     "text": [
      "{'Name': 'Mahesh', 'Age': 65, 'Status': 'Available', 'Price': 5000, 'Rating': '4*', 'Reviews': 'Good to hang'}\n",
      "\n",
      "{'Name': 'Anand', 'Age': 75, 'Status': 'Available', 'Price': 10000, 'Rating': '4.2*', 'Reviews': 'Great to talk to'}\n",
      "\n",
      "{'Name': 'Shanta', 'Age': 68, 'Status': 'Available', 'Price': 7000, 'Rating': '4.2*', 'Reviews': 'Motivator'}\n",
      "\n"
     ]
    }
   ],
   "source": [
    "#check_elders_availibility\n",
    "for i in y1.check_elders_availibility():\n",
    "    print(i)\n",
    "    print()"
   ]
  },
  {
   "cell_type": "code",
   "execution_count": 82,
   "metadata": {},
   "outputs": [
    {
     "name": "stdout",
     "output_type": "stream",
     "text": [
      "Request Sent! \n",
      "To:- {'Name': 'Mahesh', 'Age': 65, 'Status': 'Available', 'Price': 5000, 'Rating': '4*', 'Reviews': 'Good to hang'}\n"
     ]
    }
   ],
   "source": [
    "## sending request to take care of.\n",
    "y1.send_request(\"Mahesh\")\n",
    "# y2.send_request(\"Anand\")\n",
    "# Max limit to take care of exceeds.\n",
    "# y3.send_request(\"Shanta\")\n",
    "\n",
    "# ## sending request to un-available elder.\n",
    "# y2.send_request(\"Kamlesh\")\n",
    "\n",
    "# ## Sending more than one request to the same elderly person\n",
    "# y2.send_request(\"Shanta\")"
   ]
  },
  {
   "cell_type": "code",
   "execution_count": null,
   "metadata": {},
   "outputs": [],
   "source": []
  },
  {
   "cell_type": "markdown",
   "metadata": {},
   "source": [
    "#### ELDERLY PEOPLE's FUNCTIONALITIES :-"
   ]
  },
  {
   "cell_type": "code",
   "execution_count": 21,
   "metadata": {},
   "outputs": [
    {
     "name": "stdout",
     "output_type": "stream",
     "text": [
      "Status changed Successfully\n"
     ]
    }
   ],
   "source": [
    "## Elders can make themself available and un-available as per their need.\n",
    "e2.update_status(\"Un-Available\")"
   ]
  },
  {
   "cell_type": "code",
   "execution_count": 83,
   "metadata": {},
   "outputs": [
    {
     "name": "stdout",
     "output_type": "stream",
     "text": [
      "{'Name': 'Raj', 'Age': 22, 'Elders In Care': 3, 'Request For': 'Mahesh', 'Rating': '3.5*', 'Reviews': 'Humble in nuture'}\n",
      "\t\t\t ********** End of line **********\n"
     ]
    }
   ],
   "source": [
    "## Shows the number of requests sent for the elder\n",
    "e1.care_requests_queue()"
   ]
  },
  {
   "cell_type": "code",
   "execution_count": 84,
   "metadata": {},
   "outputs": [
    {
     "name": "stdout",
     "output_type": "stream",
     "text": [
      "Approved\n",
      "\t\t\t ********** End of line **********\n"
     ]
    }
   ],
   "source": [
    "## Approval of said request\n",
    "e1.approve_request(\"Raj\",\"Yes\")"
   ]
  },
  {
   "cell_type": "code",
   "execution_count": null,
   "metadata": {},
   "outputs": [],
   "source": []
  },
  {
   "cell_type": "markdown",
   "metadata": {},
   "source": [
    "#### TESTING THE APPLICATION & SHOWING THE RESULTS FUNCTIONALITIES :-"
   ]
  },
  {
   "cell_type": "markdown",
   "metadata": {},
   "source": [
    "##### a. Showing who is taking care of the older couple."
   ]
  },
  {
   "cell_type": "code",
   "execution_count": 85,
   "metadata": {},
   "outputs": [
    {
     "name": "stdout",
     "output_type": "stream",
     "text": [
      "Mahesh is been taken care by\n",
      "{'Name': 'Raj', 'Age': 22, 'Ratings': '3.5*', 'Reviews': 'Humble in nuture'}\n"
     ]
    }
   ],
   "source": [
    "s1.display_elder_guardian_details(\"Mahesh\")"
   ]
  },
  {
   "cell_type": "markdown",
   "metadata": {},
   "source": [
    "##### b. Showing who all a young chap is currently taking care of."
   ]
  },
  {
   "cell_type": "code",
   "execution_count": 86,
   "metadata": {},
   "outputs": [
    {
     "name": "stdout",
     "output_type": "stream",
     "text": [
      "Raj is taking care of :-\n",
      "\n",
      "\t Mahesh 4* Good to hang\n"
     ]
    }
   ],
   "source": [
    "s1.display_elders_in_care_of_youngster(\"Raj\")"
   ]
  },
  {
   "cell_type": "code",
   "execution_count": null,
   "metadata": {},
   "outputs": [],
   "source": []
  },
  {
   "cell_type": "code",
   "execution_count": null,
   "metadata": {},
   "outputs": [],
   "source": []
  },
  {
   "cell_type": "code",
   "execution_count": null,
   "metadata": {},
   "outputs": [],
   "source": []
  },
  {
   "cell_type": "code",
   "execution_count": null,
   "metadata": {},
   "outputs": [],
   "source": []
  }
 ],
 "metadata": {
  "kernelspec": {
   "display_name": "Python 3",
   "language": "python",
   "name": "python3"
  },
  "language_info": {
   "codemirror_mode": {
    "name": "ipython",
    "version": 3
   },
   "file_extension": ".py",
   "mimetype": "text/x-python",
   "name": "python",
   "nbconvert_exporter": "python",
   "pygments_lexer": "ipython3",
   "version": "3.7.6"
  }
 },
 "nbformat": 4,
 "nbformat_minor": 4
}
